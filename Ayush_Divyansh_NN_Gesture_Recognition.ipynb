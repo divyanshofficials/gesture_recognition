{
 "cells": [
  {
   "cell_type": "markdown",
   "metadata": {},
   "source": [
    "# Gesture Recognition"
   ]
  },
  {
   "cell_type": "code",
   "execution_count": 1,
   "metadata": {},
   "outputs": [],
   "source": [
    "import numpy as np\n",
    "import os\n",
    "from scipy.misc import imread, imresize\n",
    "import datetime\n",
    "import os"
   ]
  },
  {
   "cell_type": "markdown",
   "metadata": {},
   "source": [
    "We set the random seed so that the results don't vary drastically."
   ]
  },
  {
   "cell_type": "code",
   "execution_count": 2,
   "metadata": {},
   "outputs": [
    {
     "name": "stderr",
     "output_type": "stream",
     "text": [
      "Using TensorFlow backend.\n"
     ]
    }
   ],
   "source": [
    "np.random.seed(30)\n",
    "import random as rn\n",
    "rn.seed(30)\n",
    "from keras import backend as K\n",
    "import tensorflow as tf\n",
    "tf.set_random_seed(30)"
   ]
  },
  {
   "cell_type": "markdown",
   "metadata": {},
   "source": [
    "In this block, you read the folder names for training and validation. You also set the `batch_size` here. Note that you set the batch size in such a way that you are able to use the GPU in full capacity. You keep increasing the batch size until the machine throws an error."
   ]
  },
  {
   "cell_type": "code",
   "execution_count": 3,
   "metadata": {},
   "outputs": [],
   "source": [
    "train_doc = np.random.permutation(open('Project_data/train.csv').readlines())\n",
    "val_doc = np.random.permutation(open('Project_data/val.csv').readlines())\n",
    "batch_size = 10"
   ]
  },
  {
   "cell_type": "markdown",
   "metadata": {},
   "source": [
    "## Generator\n",
    "This is one of the most important part of the code. The overall structure of the generator has been given. In the generator, you are going to preprocess the images as you have images of 2 different dimensions as well as create a batch of video frames. You have to experiment with some of the parts of the generator function such that you get high accuracy."
   ]
  },
  {
   "cell_type": "code",
   "execution_count": 4,
   "metadata": {},
   "outputs": [],
   "source": [
    "def generator(source_path, folder_list, batch_size):\n",
    "    print( 'Source path = ', source_path, '; batch size =', batch_size)\n",
    "    img_idx = [0,1,2,4,6,8,10,12,14,16,18,20,22,24,26,27,28,29]\n",
    "    while True:\n",
    "        t = np.random.permutation(folder_list)\n",
    "        num_batches = int(len(t)/batch_size)\n",
    "        for batch in range(num_batches):\n",
    "            batch_data = np.zeros((batch_size,18,84,84,3))\n",
    "            batch_labels = np.zeros((batch_size,5))\n",
    "            for folder in range(batch_size):\n",
    "                imgs = os.listdir(source_path+'/'+ t[folder + (batch*batch_size)].split(';')[0])\n",
    "                for idx,item in enumerate(img_idx):\n",
    "                    image = imread(source_path+'/'+ t[folder + (batch*batch_size)].strip().split(';')[0]+'/'+imgs[item]).astype(np.float32)\n",
    "                    if image.shape[1] == 160:\n",
    "                        image = imresize(image[:,20:140,:],(84,84)).astype(np.float32)\n",
    "                    else:\n",
    "                        image = imresize(image,(84,84)).astype(np.float32)\n",
    "                    \n",
    "                    batch_data[folder,idx,:,:,0] = image[:,:,0] - 104\n",
    "                    batch_data[folder,idx,:,:,1] = image[:,:,1] - 117\n",
    "                    batch_data[folder,idx,:,:,2] = image[:,:,2] - 123\n",
    "                    \n",
    "                batch_labels[folder, int(t[folder + (batch*batch_size)].strip().split(';')[2])] = 1\n",
    "            yield batch_data, batch_labels\n",
    "\n",
    "        if (len(t)%batch_size) != 0:\n",
    "            batch_data = np.zeros((len(t)%batch_size,18,84,84,3))\n",
    "            batch_labels = np.zeros((len(t)%batch_size,5))\n",
    "            for folder in range(len(t)%batch_size):\n",
    "                imgs = os.listdir(source_path+'/'+ t[folder + (num_batches*batch_size)].split(';')[0])\n",
    "                for idx,item in enumerate(img_idx):\n",
    "                    image = imread(source_path+'/'+ t[folder + (num_batches*batch_size)].strip().split(';')[0]+'/'+imgs[item]).astype(np.float32)\n",
    "                    if image.shape[1] == 160:\n",
    "                        image = imresize(image[:,20:140,:],(84,84)).astype(np.float32)\n",
    "                    else:\n",
    "                        image = imresize(image,(84,84)).astype(np.float32)\n",
    "\n",
    "                    batch_data[folder,idx,:,:,0] = image[:,:,0] - 104\n",
    "                    batch_data[folder,idx,:,:,1] = image[:,:,1] - 117\n",
    "                    batch_data[folder,idx,:,:,2] = image[:,:,2] - 123\n",
    "\n",
    "                batch_labels[folder, int(t[folder + (num_batches*batch_size)].strip().split(';')[2])] = 1\n",
    "\n",
    "            yield batch_data, batch_labels"
   ]
  },
  {
   "cell_type": "code",
   "execution_count": 5,
   "metadata": {},
   "outputs": [
    {
     "name": "stdout",
     "output_type": "stream",
     "text": [
      "# training sequences = 663\n",
      "# validation sequences = 100\n",
      "# epochs = 30\n"
     ]
    }
   ],
   "source": [
    "curr_dt_time = datetime.datetime.now()\n",
    "train_path = 'Project_data/train'\n",
    "val_path = 'Project_data/val'\n",
    "num_train_sequences = len(train_doc)\n",
    "print('# training sequences =', num_train_sequences)\n",
    "num_val_sequences = len(val_doc)\n",
    "print('# validation sequences =', num_val_sequences)\n",
    "num_epochs = 30\n",
    "print ('# epochs =', num_epochs)"
   ]
  },
  {
   "cell_type": "markdown",
   "metadata": {},
   "source": [
    "## Model\n",
    "Here you make the model using different functionalities that Keras provides. Remember to use `Conv3D` and `MaxPooling3D` and not `Conv2D` and `Maxpooling2D`. Also remember that the last layer is the softmax. Remember that the network is designed in such a way that the model is able to fit in the memory of the webcam."
   ]
  },
  {
   "cell_type": "code",
   "execution_count": 6,
   "metadata": {},
   "outputs": [],
   "source": [
    "from keras.models import Sequential\n",
    "from keras.layers import Dense, GRU, Dropout, Flatten, BatchNormalization, Activation\n",
    "from keras.layers.convolutional import Conv3D, MaxPooling3D\n",
    "from keras.callbacks import ModelCheckpoint, ReduceLROnPlateau\n",
    "from keras import optimizers\n",
    "\n",
    "model = Sequential()\n",
    "model.add(Conv3D(64, (3,3,3), strides=(1,1,1), padding='same', input_shape=(18,84,84,3)))\n",
    "model.add(BatchNormalization())\n",
    "model.add(Activation('relu'))\n",
    "model.add(MaxPooling3D(pool_size=(2,2,1), strides=(2,2,1)))\n",
    "\n",
    "model.add(Conv3D(128, (3,3,3), strides=(1,1,1), padding='same'))\n",
    "model.add(BatchNormalization())\n",
    "model.add(Activation('relu'))\n",
    "model.add(MaxPooling3D(pool_size=(2,2,2), strides=(2,2,2)))\n",
    "\n",
    "model.add(Conv3D(256, (3,3,3), strides=(1,1,1), padding='same'))\n",
    "model.add(BatchNormalization())\n",
    "model.add(Activation('relu'))\n",
    "model.add(MaxPooling3D(pool_size=(2,2,2), strides=(2,2,2)))\n",
    "\n",
    "model.add(Conv3D(256, (3,3,3), strides=(1,1,1), padding='same'))\n",
    "model.add(BatchNormalization())\n",
    "model.add(Activation('relu'))\n",
    "model.add(MaxPooling3D(pool_size=(2,2,2), strides=(2,2,2)))\n",
    "\n",
    "model.add(Flatten())\n",
    "model.add(Dropout(0.5))\n",
    "model.add(Dense(512, activation='relu'))\n",
    "model.add(Dropout(0.5))\n",
    "model.add(Dense(5, activation='softmax'))"
   ]
  },
  {
   "cell_type": "markdown",
   "metadata": {},
   "source": [
    "Now that you have written the model, the next step is to `compile` the model. When you print the `summary` of the model, you'll see the total number of parameters you have to train."
   ]
  },
  {
   "cell_type": "code",
   "execution_count": 7,
   "metadata": {},
   "outputs": [
    {
     "name": "stdout",
     "output_type": "stream",
     "text": [
      "_________________________________________________________________\n",
      "Layer (type)                 Output Shape              Param #   \n",
      "=================================================================\n",
      "conv3d_1 (Conv3D)            (None, 18, 84, 84, 64)    5248      \n",
      "_________________________________________________________________\n",
      "batch_normalization_1 (Batch (None, 18, 84, 84, 64)    256       \n",
      "_________________________________________________________________\n",
      "activation_1 (Activation)    (None, 18, 84, 84, 64)    0         \n",
      "_________________________________________________________________\n",
      "max_pooling3d_1 (MaxPooling3 (None, 9, 42, 84, 64)     0         \n",
      "_________________________________________________________________\n",
      "conv3d_2 (Conv3D)            (None, 9, 42, 84, 128)    221312    \n",
      "_________________________________________________________________\n",
      "batch_normalization_2 (Batch (None, 9, 42, 84, 128)    512       \n",
      "_________________________________________________________________\n",
      "activation_2 (Activation)    (None, 9, 42, 84, 128)    0         \n",
      "_________________________________________________________________\n",
      "max_pooling3d_2 (MaxPooling3 (None, 4, 21, 42, 128)    0         \n",
      "_________________________________________________________________\n",
      "conv3d_3 (Conv3D)            (None, 4, 21, 42, 256)    884992    \n",
      "_________________________________________________________________\n",
      "batch_normalization_3 (Batch (None, 4, 21, 42, 256)    1024      \n",
      "_________________________________________________________________\n",
      "activation_3 (Activation)    (None, 4, 21, 42, 256)    0         \n",
      "_________________________________________________________________\n",
      "max_pooling3d_3 (MaxPooling3 (None, 2, 10, 21, 256)    0         \n",
      "_________________________________________________________________\n",
      "conv3d_4 (Conv3D)            (None, 2, 10, 21, 256)    1769728   \n",
      "_________________________________________________________________\n",
      "batch_normalization_4 (Batch (None, 2, 10, 21, 256)    1024      \n",
      "_________________________________________________________________\n",
      "activation_4 (Activation)    (None, 2, 10, 21, 256)    0         \n",
      "_________________________________________________________________\n",
      "max_pooling3d_4 (MaxPooling3 (None, 1, 5, 10, 256)     0         \n",
      "_________________________________________________________________\n",
      "flatten_1 (Flatten)          (None, 12800)             0         \n",
      "_________________________________________________________________\n",
      "dropout_1 (Dropout)          (None, 12800)             0         \n",
      "_________________________________________________________________\n",
      "dense_1 (Dense)              (None, 512)               6554112   \n",
      "_________________________________________________________________\n",
      "dropout_2 (Dropout)          (None, 512)               0         \n",
      "_________________________________________________________________\n",
      "dense_2 (Dense)              (None, 5)                 2565      \n",
      "=================================================================\n",
      "Total params: 9,440,773\n",
      "Trainable params: 9,439,365\n",
      "Non-trainable params: 1,408\n",
      "_________________________________________________________________\n",
      "None\n"
     ]
    }
   ],
   "source": [
    "sgd = optimizers.SGD(lr=0.001, decay=1e-6, momentum=0.7, nesterov=True)\n",
    "model.compile(optimizer=sgd, loss='categorical_crossentropy', metrics=['categorical_accuracy'])\n",
    "print (model.summary())"
   ]
  },
  {
   "cell_type": "markdown",
   "metadata": {},
   "source": [
    "Let us create the `train_generator` and the `val_generator` which will be used in `.fit_generator`."
   ]
  },
  {
   "cell_type": "code",
   "execution_count": 8,
   "metadata": {},
   "outputs": [],
   "source": [
    "train_generator = generator(train_path, train_doc, batch_size)\n",
    "val_generator = generator(val_path, val_doc, batch_size)"
   ]
  },
  {
   "cell_type": "code",
   "execution_count": 9,
   "metadata": {},
   "outputs": [
    {
     "name": "stderr",
     "output_type": "stream",
     "text": [
      "/mnt/disks/user/anaconda3/lib/python3.6/site-packages/keras/callbacks.py:999: UserWarning: `epsilon` argument is deprecated and will be removed, use `min_delta` instead.\n",
      "  warnings.warn('`epsilon` argument is deprecated and '\n"
     ]
    }
   ],
   "source": [
    "model_name = 'model_init' + '_' + str(curr_dt_time).replace(' ','').replace(':','_') + '/'\n",
    "    \n",
    "if not os.path.exists(model_name):\n",
    "    os.mkdir(model_name)\n",
    "        \n",
    "filepath = model_name + 'model-{epoch:05d}-{loss:.5f}-{categorical_accuracy:.5f}-{val_loss:.5f}-{val_categorical_accuracy:.5f}.h5'\n",
    "\n",
    "checkpoint = ModelCheckpoint(filepath, monitor='val_loss', verbose=1, save_best_only=False, save_weights_only=False, mode='auto', period=1)\n",
    "\n",
    "LR = ReduceLROnPlateau(monitor='val_loss', factor=0.5, patience=2, verbose=1, mode='min', epsilon=0.0001, cooldown=0, min_lr=0.00001)\n",
    "callbacks_list = [checkpoint, LR]"
   ]
  },
  {
   "cell_type": "code",
   "execution_count": 10,
   "metadata": {},
   "outputs": [],
   "source": [
    "if (num_train_sequences%batch_size) == 0:\n",
    "    steps_per_epoch = int(num_train_sequences/batch_size)\n",
    "else:\n",
    "    steps_per_epoch = (num_train_sequences//batch_size) + 1\n",
    "\n",
    "if (num_val_sequences%batch_size) == 0:\n",
    "    validation_steps = int(num_val_sequences/batch_size)\n",
    "else:\n",
    "    validation_steps = (num_val_sequences//batch_size) + 1"
   ]
  },
  {
   "cell_type": "markdown",
   "metadata": {},
   "source": [
    "Let us now fit the model. This will start training the model and with the help of the checkpoints, you'll be able to save the model at the end of each epoch."
   ]
  },
  {
   "cell_type": "code",
   "execution_count": 11,
   "metadata": {},
   "outputs": [
    {
     "name": "stdout",
     "output_type": "stream",
     "text": [
      "Source path =  Project_data/val ; batch size =Source path =  Project_data/train  10\n",
      "; batch size = 10\n",
      "Epoch 1/30\n"
     ]
    },
    {
     "name": "stderr",
     "output_type": "stream",
     "text": [
      "/mnt/disks/user/anaconda3/lib/python3.6/site-packages/ipykernel_launcher.py:13: DeprecationWarning: `imread` is deprecated!\n",
      "`imread` is deprecated in SciPy 1.0.0, and will be removed in 1.2.0.\n",
      "Use ``imageio.imread`` instead.\n",
      "  del sys.path[0]\n",
      "/mnt/disks/user/anaconda3/lib/python3.6/site-packages/ipykernel_launcher.py:15: DeprecationWarning: `imresize` is deprecated!\n",
      "`imresize` is deprecated in SciPy 1.0.0, and will be removed in 1.2.0.\n",
      "Use ``skimage.transform.resize`` instead.\n",
      "  from ipykernel import kernelapp as app\n",
      "/mnt/disks/user/anaconda3/lib/python3.6/site-packages/ipykernel_launcher.py:17: DeprecationWarning: `imresize` is deprecated!\n",
      "`imresize` is deprecated in SciPy 1.0.0, and will be removed in 1.2.0.\n",
      "Use ``skimage.transform.resize`` instead.\n"
     ]
    },
    {
     "name": "stdout",
     "output_type": "stream",
     "text": [
      "65/67 [============================>.] - ETA: 4s - loss: 3.1134 - categorical_accuracy: 0.2800"
     ]
    },
    {
     "name": "stderr",
     "output_type": "stream",
     "text": [
      "/mnt/disks/user/anaconda3/lib/python3.6/site-packages/ipykernel_launcher.py:32: DeprecationWarning: `imread` is deprecated!\n",
      "`imread` is deprecated in SciPy 1.0.0, and will be removed in 1.2.0.\n",
      "Use ``imageio.imread`` instead.\n",
      "/mnt/disks/user/anaconda3/lib/python3.6/site-packages/ipykernel_launcher.py:34: DeprecationWarning: `imresize` is deprecated!\n",
      "`imresize` is deprecated in SciPy 1.0.0, and will be removed in 1.2.0.\n",
      "Use ``skimage.transform.resize`` instead.\n"
     ]
    },
    {
     "name": "stdout",
     "output_type": "stream",
     "text": [
      "67/67 [==============================] - 153s 2s/step - loss: 3.0885 - categorical_accuracy: 0.2762 - val_loss: 1.4611 - val_categorical_accuracy: 0.3700\n",
      "\n",
      "Epoch 00001: saving model to model_init_2020-09-1314_28_24.024543/model-00001-3.09214-0.27903-1.46109-0.37000.h5\n",
      "Epoch 2/30\n",
      "67/67 [==============================] - 52s 773ms/step - loss: 1.4080 - categorical_accuracy: 0.4304 - val_loss: 1.0711 - val_categorical_accuracy: 0.5700\n",
      "\n",
      "Epoch 00002: saving model to model_init_2020-09-1314_28_24.024543/model-00002-1.40423-0.43137-1.07115-0.57000.h5\n",
      "Epoch 3/30\n",
      "62/67 [==========================>...] - ETA: 3s - loss: 1.1723 - categorical_accuracy: 0.4806"
     ]
    },
    {
     "name": "stderr",
     "output_type": "stream",
     "text": [
      "/mnt/disks/user/anaconda3/lib/python3.6/site-packages/ipykernel_launcher.py:36: DeprecationWarning: `imresize` is deprecated!\n",
      "`imresize` is deprecated in SciPy 1.0.0, and will be removed in 1.2.0.\n",
      "Use ``skimage.transform.resize`` instead.\n"
     ]
    },
    {
     "name": "stdout",
     "output_type": "stream",
     "text": [
      "67/67 [==============================] - 51s 761ms/step - loss: 1.1900 - categorical_accuracy: 0.4766 - val_loss: 1.0027 - val_categorical_accuracy: 0.5800\n",
      "\n",
      "Epoch 00003: saving model to model_init_2020-09-1314_28_24.024543/model-00003-1.18665-0.47813-1.00266-0.58000.h5\n",
      "Epoch 4/30\n",
      "67/67 [==============================] - 51s 760ms/step - loss: 1.1447 - categorical_accuracy: 0.5029 - val_loss: 0.9019 - val_categorical_accuracy: 0.6700\n",
      "\n",
      "Epoch 00004: saving model to model_init_2020-09-1314_28_24.024543/model-00004-1.15081-0.49774-0.90191-0.67000.h5\n",
      "Epoch 5/30\n",
      "67/67 [==============================] - 52s 772ms/step - loss: 1.0352 - categorical_accuracy: 0.5726 - val_loss: 0.8929 - val_categorical_accuracy: 0.6600\n",
      "\n",
      "Epoch 00005: saving model to model_init_2020-09-1314_28_24.024543/model-00005-1.03422-0.57164-0.89288-0.66000.h5\n",
      "Epoch 6/30\n",
      "67/67 [==============================] - 54s 811ms/step - loss: 0.9859 - categorical_accuracy: 0.5681 - val_loss: 0.7735 - val_categorical_accuracy: 0.7200\n",
      "\n",
      "Epoch 00006: saving model to model_init_2020-09-1314_28_24.024543/model-00006-0.98713-0.56712-0.77348-0.72000.h5\n",
      "Epoch 7/30\n",
      "67/67 [==============================] - 61s 904ms/step - loss: 0.9399 - categorical_accuracy: 0.6253 - val_loss: 0.9021 - val_categorical_accuracy: 0.6500\n",
      "\n",
      "Epoch 00007: saving model to model_init_2020-09-1314_28_24.024543/model-00007-0.94621-0.62142-0.90208-0.65000.h5\n",
      "Epoch 8/30\n",
      "67/67 [==============================] - 51s 764ms/step - loss: 0.8724 - categorical_accuracy: 0.6458 - val_loss: 0.8018 - val_categorical_accuracy: 0.6100\n",
      "\n",
      "Epoch 00008: saving model to model_init_2020-09-1314_28_24.024543/model-00008-0.87226-0.64555-0.80177-0.61000.h5\n",
      "\n",
      "Epoch 00008: ReduceLROnPlateau reducing learning rate to 0.0005000000237487257.\n",
      "Epoch 9/30\n",
      "67/67 [==============================] - 51s 767ms/step - loss: 0.7759 - categorical_accuracy: 0.6846 - val_loss: 0.7030 - val_categorical_accuracy: 0.7700\n",
      "\n",
      "Epoch 00009: saving model to model_init_2020-09-1314_28_24.024543/model-00009-0.77876-0.68477-0.70298-0.77000.h5\n",
      "Epoch 10/30\n",
      "67/67 [==============================] - 51s 758ms/step - loss: 0.7418 - categorical_accuracy: 0.6955 - val_loss: 0.7083 - val_categorical_accuracy: 0.8200\n",
      "\n",
      "Epoch 00010: saving model to model_init_2020-09-1314_28_24.024543/model-00010-0.74730-0.69231-0.70829-0.82000.h5\n",
      "Epoch 11/30\n",
      "67/67 [==============================] - 52s 775ms/step - loss: 0.6512 - categorical_accuracy: 0.7249 - val_loss: 0.6390 - val_categorical_accuracy: 0.7800\n",
      "\n",
      "Epoch 00011: saving model to model_init_2020-09-1314_28_24.024543/model-00011-0.64950-0.72549-0.63904-0.78000.h5\n",
      "Epoch 12/30\n",
      "67/67 [==============================] - 52s 775ms/step - loss: 0.6513 - categorical_accuracy: 0.7532 - val_loss: 0.6669 - val_categorical_accuracy: 0.7500\n",
      "\n",
      "Epoch 00012: saving model to model_init_2020-09-1314_28_24.024543/model-00012-0.65275-0.75415-0.66694-0.75000.h5\n",
      "Epoch 13/30\n",
      "67/67 [==============================] - 52s 769ms/step - loss: 0.6455 - categorical_accuracy: 0.7558 - val_loss: 0.6486 - val_categorical_accuracy: 0.7300\n",
      "\n",
      "Epoch 00013: saving model to model_init_2020-09-1314_28_24.024543/model-00013-0.63274-0.76018-0.64862-0.73000.h5\n",
      "\n",
      "Epoch 00013: ReduceLROnPlateau reducing learning rate to 0.0002500000118743628.\n",
      "Epoch 14/30\n",
      "67/67 [==============================] - 51s 763ms/step - loss: 0.5581 - categorical_accuracy: 0.7940 - val_loss: 0.6354 - val_categorical_accuracy: 0.8100\n",
      "\n",
      "Epoch 00014: saving model to model_init_2020-09-1314_28_24.024543/model-00014-0.56172-0.79186-0.63544-0.81000.h5\n",
      "Epoch 15/30\n",
      "67/67 [==============================] - 51s 767ms/step - loss: 0.5196 - categorical_accuracy: 0.7921 - val_loss: 0.5790 - val_categorical_accuracy: 0.7600\n",
      "\n",
      "Epoch 00015: saving model to model_init_2020-09-1314_28_24.024543/model-00015-0.51881-0.79336-0.57896-0.76000.h5\n",
      "Epoch 16/30\n",
      "67/67 [==============================] - 51s 768ms/step - loss: 0.5264 - categorical_accuracy: 0.8074 - val_loss: 0.5618 - val_categorical_accuracy: 0.7700\n",
      "\n",
      "Epoch 00016: saving model to model_init_2020-09-1314_28_24.024543/model-00016-0.52759-0.80543-0.56175-0.77000.h5\n",
      "Epoch 17/30\n",
      "67/67 [==============================] - 51s 767ms/step - loss: 0.5506 - categorical_accuracy: 0.7827 - val_loss: 0.5388 - val_categorical_accuracy: 0.7800\n",
      "\n",
      "Epoch 00017: saving model to model_init_2020-09-1314_28_24.024543/model-00017-0.54744-0.78733-0.53884-0.78000.h5\n",
      "Epoch 18/30\n",
      "67/67 [==============================] - 51s 767ms/step - loss: 0.5154 - categorical_accuracy: 0.7737 - val_loss: 0.5373 - val_categorical_accuracy: 0.8100\n",
      "\n",
      "Epoch 00018: saving model to model_init_2020-09-1314_28_24.024543/model-00018-0.50654-0.77828-0.53734-0.81000.h5\n",
      "Epoch 19/30\n",
      "67/67 [==============================] - 51s 768ms/step - loss: 0.4910 - categorical_accuracy: 0.8343 - val_loss: 0.5725 - val_categorical_accuracy: 0.7700\n",
      "\n",
      "Epoch 00019: saving model to model_init_2020-09-1314_28_24.024543/model-00019-0.49529-0.83258-0.57248-0.77000.h5\n",
      "Epoch 20/30\n",
      "67/67 [==============================] - 51s 767ms/step - loss: 0.4857 - categorical_accuracy: 0.8324 - val_loss: 0.5376 - val_categorical_accuracy: 0.8000\n",
      "\n",
      "Epoch 00020: saving model to model_init_2020-09-1314_28_24.024543/model-00020-0.48574-0.83409-0.53763-0.80000.h5\n",
      "\n",
      "Epoch 00020: ReduceLROnPlateau reducing learning rate to 0.0001250000059371814.\n",
      "Epoch 21/30\n",
      "67/67 [==============================] - 51s 764ms/step - loss: 0.4692 - categorical_accuracy: 0.8165 - val_loss: 0.5252 - val_categorical_accuracy: 0.8100\n",
      "\n",
      "Epoch 00021: saving model to model_init_2020-09-1314_28_24.024543/model-00021-0.45456-0.82504-0.52519-0.81000.h5\n",
      "Epoch 22/30\n",
      "67/67 [==============================] - 51s 764ms/step - loss: 0.4286 - categorical_accuracy: 0.8477 - val_loss: 0.5260 - val_categorical_accuracy: 0.8100\n",
      "\n",
      "Epoch 00022: saving model to model_init_2020-09-1314_28_24.024543/model-00022-0.43205-0.84615-0.52604-0.81000.h5\n",
      "Epoch 23/30\n",
      "67/67 [==============================] - 51s 767ms/step - loss: 0.4074 - categorical_accuracy: 0.8448 - val_loss: 0.5233 - val_categorical_accuracy: 0.8300\n",
      "\n",
      "Epoch 00023: saving model to model_init_2020-09-1314_28_24.024543/model-00023-0.40993-0.84314-0.52332-0.83000.h5\n",
      "Epoch 24/30\n",
      "67/67 [==============================] - 51s 764ms/step - loss: 0.4266 - categorical_accuracy: 0.8358 - val_loss: 0.5186 - val_categorical_accuracy: 0.8000\n",
      "\n",
      "Epoch 00024: saving model to model_init_2020-09-1314_28_24.024543/model-00024-0.42496-0.83409-0.51860-0.80000.h5\n",
      "Epoch 25/30\n",
      "67/67 [==============================] - 51s 764ms/step - loss: 0.4010 - categorical_accuracy: 0.8682 - val_loss: 0.5136 - val_categorical_accuracy: 0.8000\n",
      "\n",
      "Epoch 00025: saving model to model_init_2020-09-1314_28_24.024543/model-00025-0.39990-0.87029-0.51362-0.80000.h5\n",
      "Epoch 26/30\n",
      "67/67 [==============================] - 51s 765ms/step - loss: 0.4267 - categorical_accuracy: 0.8413 - val_loss: 0.5034 - val_categorical_accuracy: 0.8000\n",
      "\n",
      "Epoch 00026: saving model to model_init_2020-09-1314_28_24.024543/model-00026-0.42779-0.84314-0.50337-0.80000.h5\n",
      "Epoch 27/30\n",
      "67/67 [==============================] - 51s 767ms/step - loss: 0.4070 - categorical_accuracy: 0.8537 - val_loss: 0.5037 - val_categorical_accuracy: 0.7700\n",
      "\n",
      "Epoch 00027: saving model to model_init_2020-09-1314_28_24.024543/model-00027-0.40924-0.85219-0.50374-0.77000.h5\n",
      "Epoch 28/30\n",
      "67/67 [==============================] - 51s 765ms/step - loss: 0.4056 - categorical_accuracy: 0.8588 - val_loss: 0.4991 - val_categorical_accuracy: 0.8100\n",
      "\n",
      "Epoch 00028: saving model to model_init_2020-09-1314_28_24.024543/model-00028-0.38487-0.86425-0.49906-0.81000.h5\n",
      "Epoch 29/30\n",
      "67/67 [==============================] - 51s 768ms/step - loss: 0.3937 - categorical_accuracy: 0.8582 - val_loss: 0.4777 - val_categorical_accuracy: 0.8100\n",
      "\n",
      "Epoch 00029: saving model to model_init_2020-09-1314_28_24.024543/model-00029-0.39594-0.85671-0.47765-0.81000.h5\n",
      "Epoch 30/30\n",
      "67/67 [==============================] - 51s 766ms/step - loss: 0.3842 - categorical_accuracy: 0.8607 - val_loss: 0.4830 - val_categorical_accuracy: 0.7800\n",
      "\n",
      "Epoch 00030: saving model to model_init_2020-09-1314_28_24.024543/model-00030-0.38122-0.86275-0.48299-0.78000.h5\n"
     ]
    },
    {
     "data": {
      "text/plain": [
       "<keras.callbacks.History at 0x7fdc420f5828>"
      ]
     },
     "execution_count": 11,
     "metadata": {},
     "output_type": "execute_result"
    }
   ],
   "source": [
    "model.fit_generator(train_generator, steps_per_epoch=steps_per_epoch, epochs=num_epochs, verbose=1, \n",
    "                    callbacks=callbacks_list, validation_data=val_generator, \n",
    "                    validation_steps=validation_steps, class_weight=None, workers=1, initial_epoch=0)"
   ]
  },
  {
   "cell_type": "code",
   "execution_count": 14,
   "metadata": {},
   "outputs": [
    {
     "name": "stdout",
     "output_type": "stream",
     "text": [
      "# testing sequences = 100\n",
      "Model loaded.\n",
      "Source path =  Project_data/val ; batch size = 10\n"
     ]
    },
    {
     "name": "stderr",
     "output_type": "stream",
     "text": [
      "/mnt/disks/user/anaconda3/lib/python3.6/site-packages/ipykernel_launcher.py:13: DeprecationWarning: `imread` is deprecated!\n",
      "`imread` is deprecated in SciPy 1.0.0, and will be removed in 1.2.0.\n",
      "Use ``imageio.imread`` instead.\n",
      "  del sys.path[0]\n",
      "/mnt/disks/user/anaconda3/lib/python3.6/site-packages/ipykernel_launcher.py:15: DeprecationWarning: `imresize` is deprecated!\n",
      "`imresize` is deprecated in SciPy 1.0.0, and will be removed in 1.2.0.\n",
      "Use ``skimage.transform.resize`` instead.\n",
      "  from ipykernel import kernelapp as app\n",
      "/mnt/disks/user/anaconda3/lib/python3.6/site-packages/ipykernel_launcher.py:17: DeprecationWarning: `imresize` is deprecated!\n",
      "`imresize` is deprecated in SciPy 1.0.0, and will be removed in 1.2.0.\n",
      "Use ``skimage.transform.resize`` instead.\n"
     ]
    },
    {
     "name": "stdout",
     "output_type": "stream",
     "text": [
      "shape of x: (10, 18, 84, 84, 3) and shape of true_labels: (10, 5)\n",
      "shape of x: (10, 18, 84, 84, 3) and shape of true_labels: (10, 5)\n",
      "shape of x: (10, 18, 84, 84, 3) and shape of true_labels: (10, 5)\n",
      "shape of x: (10, 18, 84, 84, 3) and shape of true_labels: (10, 5)\n",
      "shape of x: (10, 18, 84, 84, 3) and shape of true_labels: (10, 5)\n",
      "shape of x: (10, 18, 84, 84, 3) and shape of true_labels: (10, 5)\n",
      "shape of x: (10, 18, 84, 84, 3) and shape of true_labels: (10, 5)\n",
      "shape of x: (10, 18, 84, 84, 3) and shape of true_labels: (10, 5)\n",
      "shape of x: (10, 18, 84, 84, 3) and shape of true_labels: (10, 5)\n",
      "shape of x: (10, 18, 84, 84, 3) and shape of true_labels: (10, 5)\n",
      "Accuracy is = 0.81\n"
     ]
    }
   ],
   "source": [
    "from keras.models import load_model, Model\n",
    "\n",
    "model_name = './model_init_2020-09-1314_28_24.024543/model-00028-0.38487-0.86425-0.49906-0.81000.h5'\n",
    "    \n",
    "test_doc = open('Project_data/val.csv').readlines()\n",
    "test_path = 'Project_data/val'\n",
    "num_test_sequences = len(test_doc)\n",
    "print ('# testing sequences =', num_test_sequences)\n",
    "test_generator = generator(test_path, test_doc, batch_size)\n",
    "model = load_model(model_name)\n",
    "print(\"Model loaded.\")\n",
    "model_func = Model(inputs=[model.input], outputs=[model.output])\n",
    "    \n",
    "acc = 0\n",
    "    \n",
    "num_batches = int(num_test_sequences/batch_size)\n",
    "    \n",
    "for i in range(num_batches):\n",
    "    x,true_labels = test_generator.__next__()\n",
    "    print (\"shape of x:\", x.shape, \"and shape of true_labels:\", true_labels.shape)\n",
    "    pred_idx = np.argmax(model_func.predict_on_batch(x), axis=1)\n",
    "    for j,k in enumerate(pred_idx):\n",
    "        if true_labels[j,k] == 1:\n",
    "            acc += 1\n",
    "                \n",
    "if (num_test_sequences%batch_size) != 0:\n",
    "    x,true_labels = test_generator.__next__()\n",
    "    print (\"shape of x:\", x.shape, \"and shape of true_labels:\", true_labels.shape)\n",
    "    pred_idx = np.argmax(model_func.predict_on_batch(x), axis=1)\n",
    "    for j,k in enumerate(pred_idx):\n",
    "        if true_labels[j,k] == 1:\n",
    "            acc += 1\n",
    "\n",
    "print('Accuracy is =', acc/num_test_sequences) \n"
   ]
  },
  {
   "cell_type": "markdown",
   "metadata": {},
   "source": [
    "#### Training model with batch size = 20 and epoch = 30"
   ]
  },
  {
   "cell_type": "code",
   "execution_count": 15,
   "metadata": {},
   "outputs": [
    {
     "name": "stdout",
     "output_type": "stream",
     "text": [
      "Epoch 1/30\n"
     ]
    },
    {
     "name": "stderr",
     "output_type": "stream",
     "text": [
      "/mnt/disks/user/anaconda3/lib/python3.6/site-packages/ipykernel_launcher.py:13: DeprecationWarning: `imread` is deprecated!\n",
      "`imread` is deprecated in SciPy 1.0.0, and will be removed in 1.2.0.\n",
      "Use ``imageio.imread`` instead.\n",
      "  del sys.path[0]\n",
      "/mnt/disks/user/anaconda3/lib/python3.6/site-packages/ipykernel_launcher.py:17: DeprecationWarning: `imresize` is deprecated!\n",
      "`imresize` is deprecated in SciPy 1.0.0, and will be removed in 1.2.0.\n",
      "Use ``skimage.transform.resize`` instead.\n",
      "/mnt/disks/user/anaconda3/lib/python3.6/site-packages/ipykernel_launcher.py:15: DeprecationWarning: `imresize` is deprecated!\n",
      "`imresize` is deprecated in SciPy 1.0.0, and will be removed in 1.2.0.\n",
      "Use ``skimage.transform.resize`` instead.\n",
      "  from ipykernel import kernelapp as app\n"
     ]
    },
    {
     "name": "stdout",
     "output_type": "stream",
     "text": [
      "34/34 [==============================] - 29s 854ms/step - loss: 0.3812 - categorical_accuracy: 0.8735 - val_loss: 0.5617 - val_categorical_accuracy: 0.8200\n",
      "\n",
      "Epoch 00001: saving model to model_init_2020-09-1314_28_24.024543/model-00001-0.38120-0.87353-0.56175-0.82000.h5\n",
      "Epoch 2/30\n",
      "14/34 [===========>..................] - ETA: 14s - loss: 0.3516 - categorical_accuracy: 0.8500"
     ]
    },
    {
     "name": "stderr",
     "output_type": "stream",
     "text": [
      "/mnt/disks/user/anaconda3/lib/python3.6/site-packages/ipykernel_launcher.py:32: DeprecationWarning: `imread` is deprecated!\n",
      "`imread` is deprecated in SciPy 1.0.0, and will be removed in 1.2.0.\n",
      "Use ``imageio.imread`` instead.\n",
      "/mnt/disks/user/anaconda3/lib/python3.6/site-packages/ipykernel_launcher.py:34: DeprecationWarning: `imresize` is deprecated!\n",
      "`imresize` is deprecated in SciPy 1.0.0, and will be removed in 1.2.0.\n",
      "Use ``skimage.transform.resize`` instead.\n",
      "/mnt/disks/user/anaconda3/lib/python3.6/site-packages/ipykernel_launcher.py:36: DeprecationWarning: `imresize` is deprecated!\n",
      "`imresize` is deprecated in SciPy 1.0.0, and will be removed in 1.2.0.\n",
      "Use ``skimage.transform.resize`` instead.\n"
     ]
    },
    {
     "name": "stdout",
     "output_type": "stream",
     "text": [
      "34/34 [==============================] - 25s 749ms/step - loss: 0.3950 - categorical_accuracy: 0.8432 - val_loss: 0.4774 - val_categorical_accuracy: 0.7800\n",
      "\n",
      "Epoch 00002: saving model to model_init_2020-09-1314_28_24.024543/model-00002-0.39616-0.84685-0.47737-0.78000.h5\n",
      "Epoch 3/30\n",
      "34/34 [==============================] - 26s 768ms/step - loss: 0.3563 - categorical_accuracy: 0.8794 - val_loss: 0.4378 - val_categorical_accuracy: 0.8000\n",
      "\n",
      "Epoch 00003: saving model to model_init_2020-09-1314_28_24.024543/model-00003-0.35627-0.87941-0.43775-0.80000.h5\n",
      "Epoch 4/30\n",
      "34/34 [==============================] - 26s 755ms/step - loss: 0.3754 - categorical_accuracy: 0.8580 - val_loss: 0.6460 - val_categorical_accuracy: 0.7800\n",
      "\n",
      "Epoch 00004: saving model to model_init_2020-09-1314_28_24.024543/model-00004-0.37383-0.86186-0.64602-0.78000.h5\n",
      "Epoch 5/30\n",
      "34/34 [==============================] - 26s 769ms/step - loss: 0.3944 - categorical_accuracy: 0.8324 - val_loss: 0.4507 - val_categorical_accuracy: 0.8600\n",
      "\n",
      "Epoch 00005: saving model to model_init_2020-09-1314_28_24.024543/model-00005-0.39440-0.83235-0.45071-0.86000.h5\n",
      "\n",
      "Epoch 00005: ReduceLROnPlateau reducing learning rate to 6.25000029685907e-05.\n",
      "Epoch 6/30\n",
      "34/34 [==============================] - 26s 752ms/step - loss: 0.3764 - categorical_accuracy: 0.8580 - val_loss: 0.5348 - val_categorical_accuracy: 0.8000\n",
      "\n",
      "Epoch 00006: saving model to model_init_2020-09-1314_28_24.024543/model-00006-0.36714-0.86186-0.53477-0.80000.h5\n",
      "Epoch 7/30\n",
      "34/34 [==============================] - 26s 765ms/step - loss: 0.3727 - categorical_accuracy: 0.8441 - val_loss: 0.5356 - val_categorical_accuracy: 0.8400\n",
      "\n",
      "Epoch 00007: saving model to model_init_2020-09-1314_28_24.024543/model-00007-0.37272-0.84412-0.53560-0.84000.h5\n",
      "\n",
      "Epoch 00007: ReduceLROnPlateau reducing learning rate to 3.125000148429535e-05.\n",
      "Epoch 8/30\n",
      "34/34 [==============================] - 25s 750ms/step - loss: 0.3164 - categorical_accuracy: 0.8580 - val_loss: 0.4897 - val_categorical_accuracy: 0.8000\n",
      "\n",
      "Epoch 00008: saving model to model_init_2020-09-1314_28_24.024543/model-00008-0.31598-0.86186-0.48967-0.80000.h5\n",
      "Epoch 9/30\n",
      "34/34 [==============================] - 26s 766ms/step - loss: 0.3720 - categorical_accuracy: 0.8735 - val_loss: 0.5012 - val_categorical_accuracy: 0.8400\n",
      "\n",
      "Epoch 00009: saving model to model_init_2020-09-1314_28_24.024543/model-00009-0.37199-0.87353-0.50117-0.84000.h5\n",
      "\n",
      "Epoch 00009: ReduceLROnPlateau reducing learning rate to 1.5625000742147677e-05.\n",
      "Epoch 10/30\n",
      "34/34 [==============================] - 25s 750ms/step - loss: 0.3895 - categorical_accuracy: 0.8277 - val_loss: 0.4985 - val_categorical_accuracy: 0.8200\n",
      "\n",
      "Epoch 00010: saving model to model_init_2020-09-1314_28_24.024543/model-00010-0.37133-0.83784-0.49845-0.82000.h5\n",
      "Epoch 11/30\n",
      "34/34 [==============================] - 26s 764ms/step - loss: 0.4431 - categorical_accuracy: 0.8265 - val_loss: 0.4589 - val_categorical_accuracy: 0.8200\n",
      "\n",
      "Epoch 00011: saving model to model_init_2020-09-1314_28_24.024543/model-00011-0.44309-0.82647-0.45892-0.82000.h5\n",
      "\n",
      "Epoch 00011: ReduceLROnPlateau reducing learning rate to 1e-05.\n",
      "Epoch 12/30\n",
      "34/34 [==============================] - 25s 749ms/step - loss: 0.3726 - categorical_accuracy: 0.8735 - val_loss: 0.5458 - val_categorical_accuracy: 0.8000\n",
      "\n",
      "Epoch 00012: saving model to model_init_2020-09-1314_28_24.024543/model-00012-0.37573-0.87087-0.54580-0.80000.h5\n",
      "Epoch 13/30\n",
      "34/34 [==============================] - 26s 765ms/step - loss: 0.3547 - categorical_accuracy: 0.8647 - val_loss: 0.5307 - val_categorical_accuracy: 0.7800\n",
      "\n",
      "Epoch 00013: saving model to model_init_2020-09-1314_28_24.024543/model-00013-0.35471-0.86471-0.53066-0.78000.h5\n",
      "Epoch 14/30\n",
      "34/34 [==============================] - 26s 750ms/step - loss: 0.3515 - categorical_accuracy: 0.8793 - val_loss: 0.2422 - val_categorical_accuracy: 0.9400\n",
      "\n",
      "Epoch 00014: saving model to model_init_2020-09-1314_28_24.024543/model-00014-0.35711-0.87688-0.24216-0.94000.h5\n",
      "Epoch 15/30\n",
      "34/34 [==============================] - 26s 766ms/step - loss: 0.4113 - categorical_accuracy: 0.8529 - val_loss: 0.6761 - val_categorical_accuracy: 0.7200\n",
      "\n",
      "Epoch 00015: saving model to model_init_2020-09-1314_28_24.024543/model-00015-0.41132-0.85294-0.67609-0.72000.h5\n",
      "Epoch 16/30\n",
      "34/34 [==============================] - 25s 750ms/step - loss: 0.3938 - categorical_accuracy: 0.8470 - val_loss: 0.5086 - val_categorical_accuracy: 0.8200\n",
      "\n",
      "Epoch 00016: saving model to model_init_2020-09-1314_28_24.024543/model-00016-0.39778-0.84384-0.50858-0.82000.h5\n",
      "Epoch 17/30\n",
      "34/34 [==============================] - 26s 765ms/step - loss: 0.3570 - categorical_accuracy: 0.8647 - val_loss: 0.4890 - val_categorical_accuracy: 0.7800\n",
      "\n",
      "Epoch 00017: saving model to model_init_2020-09-1314_28_24.024543/model-00017-0.35698-0.86471-0.48900-0.78000.h5\n",
      "Epoch 18/30\n",
      "34/34 [==============================] - 26s 750ms/step - loss: 0.3025 - categorical_accuracy: 0.8999 - val_loss: 0.5195 - val_categorical_accuracy: 0.7800\n",
      "\n",
      "Epoch 00018: saving model to model_init_2020-09-1314_28_24.024543/model-00018-0.30447-0.89790-0.51951-0.78000.h5\n",
      "Epoch 19/30\n",
      "34/34 [==============================] - 26s 764ms/step - loss: 0.3503 - categorical_accuracy: 0.8676 - val_loss: 0.4894 - val_categorical_accuracy: 0.7800\n",
      "\n",
      "Epoch 00019: saving model to model_init_2020-09-1314_28_24.024543/model-00019-0.35034-0.86765-0.48942-0.78000.h5\n",
      "Epoch 20/30\n",
      "34/34 [==============================] - 26s 751ms/step - loss: 0.3661 - categorical_accuracy: 0.8778 - val_loss: 0.4147 - val_categorical_accuracy: 0.8600\n",
      "\n",
      "Epoch 00020: saving model to model_init_2020-09-1314_28_24.024543/model-00020-0.33427-0.88889-0.41471-0.86000.h5\n",
      "Epoch 21/30\n",
      "34/34 [==============================] - 26s 766ms/step - loss: 0.4074 - categorical_accuracy: 0.8559 - val_loss: 0.4478 - val_categorical_accuracy: 0.8400\n",
      "\n",
      "Epoch 00021: saving model to model_init_2020-09-1314_28_24.024543/model-00021-0.40740-0.85588-0.44777-0.84000.h5\n",
      "Epoch 22/30\n",
      "34/34 [==============================] - 26s 751ms/step - loss: 0.3536 - categorical_accuracy: 0.8638 - val_loss: 0.5774 - val_categorical_accuracy: 0.7800\n",
      "\n",
      "Epoch 00022: saving model to model_init_2020-09-1314_28_24.024543/model-00022-0.34974-0.86787-0.57740-0.78000.h5\n",
      "Epoch 23/30\n",
      "34/34 [==============================] - 26s 766ms/step - loss: 0.4032 - categorical_accuracy: 0.8412 - val_loss: 0.5167 - val_categorical_accuracy: 0.7800\n",
      "\n",
      "Epoch 00023: saving model to model_init_2020-09-1314_28_24.024543/model-00023-0.40325-0.84118-0.51674-0.78000.h5\n",
      "Epoch 24/30\n",
      "34/34 [==============================] - 25s 750ms/step - loss: 0.3979 - categorical_accuracy: 0.8617 - val_loss: 0.3932 - val_categorical_accuracy: 0.8400\n",
      "\n",
      "Epoch 00024: saving model to model_init_2020-09-1314_28_24.024543/model-00024-0.40470-0.85886-0.39325-0.84000.h5\n",
      "Epoch 25/30\n",
      "34/34 [==============================] - 26s 765ms/step - loss: 0.3176 - categorical_accuracy: 0.8882 - val_loss: 0.6393 - val_categorical_accuracy: 0.7400\n",
      "\n",
      "Epoch 00025: saving model to model_init_2020-09-1314_28_24.024543/model-00025-0.31756-0.88824-0.63933-0.74000.h5\n",
      "Epoch 26/30\n",
      "34/34 [==============================] - 26s 750ms/step - loss: 0.4474 - categorical_accuracy: 0.8352 - val_loss: 0.2788 - val_categorical_accuracy: 0.9200\n",
      "\n",
      "Epoch 00026: saving model to model_init_2020-09-1314_28_24.024543/model-00026-0.45586-0.83183-0.27876-0.92000.h5\n",
      "Epoch 27/30\n",
      "34/34 [==============================] - 26s 765ms/step - loss: 0.3505 - categorical_accuracy: 0.8765 - val_loss: 0.6529 - val_categorical_accuracy: 0.7200\n",
      "\n",
      "Epoch 00027: saving model to model_init_2020-09-1314_28_24.024543/model-00027-0.35045-0.87647-0.65292-0.72000.h5\n",
      "Epoch 28/30\n",
      "34/34 [==============================] - 25s 749ms/step - loss: 0.3370 - categorical_accuracy: 0.8882 - val_loss: 0.5102 - val_categorical_accuracy: 0.7800\n",
      "\n",
      "Epoch 00028: saving model to model_init_2020-09-1314_28_24.024543/model-00028-0.33898-0.88589-0.51017-0.78000.h5\n",
      "Epoch 29/30\n",
      "34/34 [==============================] - 26s 765ms/step - loss: 0.3075 - categorical_accuracy: 0.8765 - val_loss: 0.4820 - val_categorical_accuracy: 0.8200\n",
      "\n",
      "Epoch 00029: saving model to model_init_2020-09-1314_28_24.024543/model-00029-0.30753-0.87647-0.48197-0.82000.h5\n",
      "Epoch 30/30\n"
     ]
    },
    {
     "name": "stdout",
     "output_type": "stream",
     "text": [
      "34/34 [==============================] - 25s 749ms/step - loss: 0.3111 - categorical_accuracy: 0.8911 - val_loss: 0.4989 - val_categorical_accuracy: 0.7800\n",
      "\n",
      "Epoch 00030: saving model to model_init_2020-09-1314_28_24.024543/model-00030-0.31574-0.88889-0.49893-0.78000.h5\n"
     ]
    },
    {
     "data": {
      "text/plain": [
       "<keras.callbacks.History at 0x7fdc103ee4a8>"
      ]
     },
     "execution_count": 15,
     "metadata": {},
     "output_type": "execute_result"
    }
   ],
   "source": [
    "batch_size = 20\n",
    "epoch = 30\n",
    "if (num_train_sequences%batch_size) == 0:\n",
    "    steps_per_epoch = int(num_train_sequences/batch_size)\n",
    "else:\n",
    "    steps_per_epoch = (num_train_sequences//batch_size) + 1\n",
    "\n",
    "if (num_val_sequences%batch_size) == 0:\n",
    "    validation_steps = int(num_val_sequences/batch_size)\n",
    "else:\n",
    "    validation_steps = (num_val_sequences//batch_size) + 1\n",
    "    \n",
    "model.fit_generator(train_generator, steps_per_epoch=steps_per_epoch, epochs=num_epochs, verbose=1, \n",
    "                    callbacks=callbacks_list, validation_data=val_generator, \n",
    "                    validation_steps=validation_steps, class_weight=None, workers=1, initial_epoch=0)"
   ]
  },
  {
   "cell_type": "code",
   "execution_count": 16,
   "metadata": {},
   "outputs": [
    {
     "name": "stdout",
     "output_type": "stream",
     "text": [
      "Downloading data from https://github.com/fchollet/deep-learning-models/releases/download/v0.1/vgg16_weights_tf_dim_ordering_tf_kernels_notop.h5\n",
      "58892288/58889256 [==============================] - 4s 0us/step\n",
      "_________________________________________________________________\n",
      "Layer (type)                 Output Shape              Param #   \n",
      "=================================================================\n",
      "time_distributed_1 (TimeDist (None, 18, 64)            14845824  \n",
      "_________________________________________________________________\n",
      "gru_1 (GRU)                  (None, 18, 32)            9312      \n",
      "_________________________________________________________________\n",
      "gru_2 (GRU)                  (None, 16)                2352      \n",
      "_________________________________________________________________\n",
      "dropout_3 (Dropout)          (None, 16)                0         \n",
      "_________________________________________________________________\n",
      "dense_4 (Dense)              (None, 8)                 136       \n",
      "_________________________________________________________________\n",
      "dense_5 (Dense)              (None, 5)                 45        \n",
      "=================================================================\n",
      "Total params: 14,857,669\n",
      "Trainable params: 142,981\n",
      "Non-trainable params: 14,714,688\n",
      "_________________________________________________________________\n",
      "None\n"
     ]
    }
   ],
   "source": [
    "from keras.applications.vgg16 import VGG16\n",
    "from keras.layers import TimeDistributed\n",
    "\n",
    "base_model = VGG16(include_top=False, weights='imagenet', input_shape=(84,84,3))\n",
    "x = base_model.output\n",
    "x = Flatten()(x)\n",
    "#x.add(Dropout(0.5))\n",
    "features = Dense(64, activation='relu')(x)\n",
    "conv_model = Model(inputs=base_model.input, outputs=features)\n",
    "    \n",
    "for layer in base_model.layers:\n",
    "    layer.trainable = False\n",
    "        \n",
    "model = Sequential()\n",
    "model.add(TimeDistributed(conv_model, input_shape=(18,84,84,3)))\n",
    "model.add(GRU(32, return_sequences=True))\n",
    "model.add(GRU(16))\n",
    "model.add(Dropout(0.5))\n",
    "model.add(Dense(8, activation='relu'))\n",
    "model.add(Dense(5, activation='softmax'))\n",
    "\n",
    "sgd = optimizers.SGD(lr=0.001, decay=1e-6, momentum=0.7, nesterov=True)\n",
    "model.compile(optimizer=sgd, loss='categorical_crossentropy', metrics=['categorical_accuracy'])\n",
    "print (model.summary())"
   ]
  },
  {
   "cell_type": "code",
   "execution_count": 17,
   "metadata": {},
   "outputs": [],
   "source": [
    "train_generator = generator(train_path, train_doc, batch_size)\n",
    "val_generator = generator(val_path, val_doc, batch_size)"
   ]
  },
  {
   "cell_type": "code",
   "execution_count": 18,
   "metadata": {},
   "outputs": [
    {
     "name": "stderr",
     "output_type": "stream",
     "text": [
      "/mnt/disks/user/anaconda3/lib/python3.6/site-packages/keras/callbacks.py:999: UserWarning: `epsilon` argument is deprecated and will be removed, use `min_delta` instead.\n",
      "  warnings.warn('`epsilon` argument is deprecated and '\n"
     ]
    },
    {
     "name": "stdout",
     "output_type": "stream",
     "text": [
      "Source path =  Project_data/val ; batch size = 20\n",
      "Source path =  Project_data/train ; batch size = Epoch 1/30\n",
      "20\n"
     ]
    },
    {
     "name": "stderr",
     "output_type": "stream",
     "text": [
      "/mnt/disks/user/anaconda3/lib/python3.6/site-packages/ipykernel_launcher.py:13: DeprecationWarning: `imread` is deprecated!\n",
      "`imread` is deprecated in SciPy 1.0.0, and will be removed in 1.2.0.\n",
      "Use ``imageio.imread`` instead.\n",
      "  del sys.path[0]\n",
      "/mnt/disks/user/anaconda3/lib/python3.6/site-packages/ipykernel_launcher.py:15: DeprecationWarning: `imresize` is deprecated!\n",
      "`imresize` is deprecated in SciPy 1.0.0, and will be removed in 1.2.0.\n",
      "Use ``skimage.transform.resize`` instead.\n",
      "  from ipykernel import kernelapp as app\n",
      "/mnt/disks/user/anaconda3/lib/python3.6/site-packages/ipykernel_launcher.py:17: DeprecationWarning: `imresize` is deprecated!\n",
      "`imresize` is deprecated in SciPy 1.0.0, and will be removed in 1.2.0.\n",
      "Use ``skimage.transform.resize`` instead.\n"
     ]
    },
    {
     "name": "stdout",
     "output_type": "stream",
     "text": [
      "32/34 [===========================>..] - ETA: 2s - loss: 1.7589 - categorical_accuracy: 0.1828"
     ]
    },
    {
     "name": "stderr",
     "output_type": "stream",
     "text": [
      "/mnt/disks/user/anaconda3/lib/python3.6/site-packages/ipykernel_launcher.py:32: DeprecationWarning: `imread` is deprecated!\n",
      "`imread` is deprecated in SciPy 1.0.0, and will be removed in 1.2.0.\n",
      "Use ``imageio.imread`` instead.\n",
      "/mnt/disks/user/anaconda3/lib/python3.6/site-packages/ipykernel_launcher.py:36: DeprecationWarning: `imresize` is deprecated!\n",
      "`imresize` is deprecated in SciPy 1.0.0, and will be removed in 1.2.0.\n",
      "Use ``skimage.transform.resize`` instead.\n",
      "/mnt/disks/user/anaconda3/lib/python3.6/site-packages/ipykernel_launcher.py:34: DeprecationWarning: `imresize` is deprecated!\n",
      "`imresize` is deprecated in SciPy 1.0.0, and will be removed in 1.2.0.\n",
      "Use ``skimage.transform.resize`` instead.\n"
     ]
    },
    {
     "name": "stdout",
     "output_type": "stream",
     "text": [
      "34/34 [==============================] - 50s 1s/step - loss: 1.7624 - categorical_accuracy: 0.1751 - val_loss: 1.6250 - val_categorical_accuracy: 0.1700\n",
      "\n",
      "Epoch 00001: saving model to model_init_conv_lstm_2020-09-1314_28_24.024543/model-00001-1.75868-0.17949-1.62500-0.17000.h5\n",
      "Epoch 2/30\n",
      "34/34 [==============================] - 42s 1s/step - loss: 1.6407 - categorical_accuracy: 0.2252 - val_loss: 1.5992 - val_categorical_accuracy: 0.2200\n",
      "\n",
      "Epoch 00002: saving model to model_init_conv_lstm_2020-09-1314_28_24.024543/model-00002-1.65170-0.21418-1.59917-0.22000.h5\n",
      "Epoch 3/30\n",
      "34/34 [==============================] - 43s 1s/step - loss: 1.5988 - categorical_accuracy: 0.2414 - val_loss: 1.6084 - val_categorical_accuracy: 0.1800\n",
      "\n",
      "Epoch 00003: saving model to model_init_conv_lstm_2020-09-1314_28_24.024543/model-00003-1.60561-0.23077-1.60843-0.18000.h5\n",
      "Epoch 4/30\n",
      "34/34 [==============================] - 43s 1s/step - loss: 1.5755 - categorical_accuracy: 0.2664 - val_loss: 1.5885 - val_categorical_accuracy: 0.2900\n",
      "\n",
      "Epoch 00004: saving model to model_init_conv_lstm_2020-09-1314_28_24.024543/model-00004-1.57236-0.27300-1.58851-0.29000.h5\n",
      "Epoch 5/30\n",
      "34/34 [==============================] - 42s 1s/step - loss: 1.5490 - categorical_accuracy: 0.2804 - val_loss: 1.5789 - val_categorical_accuracy: 0.2400\n",
      "\n",
      "Epoch 00005: saving model to model_init_conv_lstm_2020-09-1314_28_24.024543/model-00005-1.54740-0.27903-1.57890-0.24000.h5\n",
      "Epoch 6/30\n",
      "34/34 [==============================] - 42s 1s/step - loss: 1.5347 - categorical_accuracy: 0.3333 - val_loss: 1.5617 - val_categorical_accuracy: 0.3100\n",
      "\n",
      "Epoch 00006: saving model to model_init_conv_lstm_2020-09-1314_28_24.024543/model-00006-1.54463-0.31674-1.56166-0.31000.h5\n",
      "Epoch 7/30\n",
      "34/34 [==============================] - 42s 1s/step - loss: 1.5433 - categorical_accuracy: 0.3046 - val_loss: 1.5741 - val_categorical_accuracy: 0.2600\n",
      "\n",
      "Epoch 00007: saving model to model_init_conv_lstm_2020-09-1314_28_24.024543/model-00007-1.54118-0.31222-1.57411-0.26000.h5\n",
      "Epoch 8/30\n",
      "34/34 [==============================] - 42s 1s/step - loss: 1.5193 - categorical_accuracy: 0.3216 - val_loss: 1.5689 - val_categorical_accuracy: 0.2200\n",
      "\n",
      "Epoch 00008: saving model to model_init_conv_lstm_2020-09-1314_28_24.024543/model-00008-1.51959-0.32127-1.56890-0.22000.h5\n",
      "\n",
      "Epoch 00008: ReduceLROnPlateau reducing learning rate to 0.0005000000237487257.\n",
      "Epoch 9/30\n",
      "34/34 [==============================] - 43s 1s/step - loss: 1.4949 - categorical_accuracy: 0.3194 - val_loss: 1.5658 - val_categorical_accuracy: 0.2300\n",
      "\n",
      "Epoch 00009: saving model to model_init_conv_lstm_2020-09-1314_28_24.024543/model-00009-1.48953-0.32730-1.56584-0.23000.h5\n",
      "Epoch 10/30\n",
      "34/34 [==============================] - 44s 1s/step - loss: 1.4558 - categorical_accuracy: 0.3672 - val_loss: 1.5541 - val_categorical_accuracy: 0.2800\n",
      "\n",
      "Epoch 00010: saving model to model_init_conv_lstm_2020-09-1314_28_24.024543/model-00010-1.46089-0.36802-1.55414-0.28000.h5\n",
      "Epoch 11/30\n",
      "34/34 [==============================] - 44s 1s/step - loss: 1.4611 - categorical_accuracy: 0.3539 - val_loss: 1.5516 - val_categorical_accuracy: 0.2500\n",
      "\n",
      "Epoch 00011: saving model to model_init_conv_lstm_2020-09-1314_28_24.024543/model-00011-1.46893-0.35445-1.55161-0.25000.h5\n",
      "Epoch 12/30\n",
      "34/34 [==============================] - 43s 1s/step - loss: 1.4172 - categorical_accuracy: 0.4128 - val_loss: 1.5418 - val_categorical_accuracy: 0.3200\n",
      "\n",
      "Epoch 00012: saving model to model_init_conv_lstm_2020-09-1314_28_24.024543/model-00012-1.41473-0.41478-1.54184-0.32000.h5\n",
      "Epoch 13/30\n",
      "34/34 [==============================] - 44s 1s/step - loss: 1.4279 - categorical_accuracy: 0.3893 - val_loss: 1.5428 - val_categorical_accuracy: 0.3100\n",
      "\n",
      "Epoch 00013: saving model to model_init_conv_lstm_2020-09-1314_28_24.024543/model-00013-1.43695-0.37406-1.54284-0.31000.h5\n",
      "Epoch 14/30\n",
      "34/34 [==============================] - 43s 1s/step - loss: 1.4099 - categorical_accuracy: 0.4275 - val_loss: 1.5315 - val_categorical_accuracy: 0.3300\n",
      "\n",
      "Epoch 00014: saving model to model_init_conv_lstm_2020-09-1314_28_24.024543/model-00014-1.40843-0.42986-1.53146-0.33000.h5\n",
      "Epoch 15/30\n",
      "34/34 [==============================] - 44s 1s/step - loss: 1.4051 - categorical_accuracy: 0.4143 - val_loss: 1.5379 - val_categorical_accuracy: 0.3200\n",
      "\n",
      "Epoch 00015: saving model to model_init_conv_lstm_2020-09-1314_28_24.024543/model-00015-1.39833-0.41629-1.53793-0.32000.h5\n",
      "Epoch 16/30\n",
      "34/34 [==============================] - 44s 1s/step - loss: 1.3931 - categorical_accuracy: 0.4459 - val_loss: 1.5389 - val_categorical_accuracy: 0.3100\n",
      "\n",
      "Epoch 00016: saving model to model_init_conv_lstm_2020-09-1314_28_24.024543/model-00016-1.37894-0.45701-1.53893-0.31000.h5\n",
      "\n",
      "Epoch 00016: ReduceLROnPlateau reducing learning rate to 0.0002500000118743628.\n",
      "Epoch 17/30\n",
      "34/34 [==============================] - 43s 1s/step - loss: 1.3678 - categorical_accuracy: 0.4356 - val_loss: 1.5288 - val_categorical_accuracy: 0.3100\n",
      "\n",
      "Epoch 00017: saving model to model_init_conv_lstm_2020-09-1314_28_24.024543/model-00017-1.37037-0.42986-1.52881-0.31000.h5\n",
      "Epoch 18/30\n",
      "34/34 [==============================] - 44s 1s/step - loss: 1.3591 - categorical_accuracy: 0.4650 - val_loss: 1.5304 - val_categorical_accuracy: 0.3000\n",
      "\n",
      "Epoch 00018: saving model to model_init_conv_lstm_2020-09-1314_28_24.024543/model-00018-1.36489-0.46003-1.53037-0.30000.h5\n",
      "Epoch 19/30\n",
      "34/34 [==============================] - 44s 1s/step - loss: 1.3381 - categorical_accuracy: 0.5055 - val_loss: 1.5279 - val_categorical_accuracy: 0.3100\n",
      "\n",
      "Epoch 00019: saving model to model_init_conv_lstm_2020-09-1314_28_24.024543/model-00019-1.34352-0.49321-1.52792-0.31000.h5\n",
      "Epoch 20/30\n",
      "34/34 [==============================] - 44s 1s/step - loss: 1.3275 - categorical_accuracy: 0.4871 - val_loss: 1.5211 - val_categorical_accuracy: 0.3200\n",
      "\n",
      "Epoch 00020: saving model to model_init_conv_lstm_2020-09-1314_28_24.024543/model-00020-1.33498-0.48265-1.52115-0.32000.h5\n",
      "Epoch 21/30\n",
      "34/34 [==============================] - 44s 1s/step - loss: 1.3449 - categorical_accuracy: 0.4717 - val_loss: 1.5178 - val_categorical_accuracy: 0.3100\n",
      "\n",
      "Epoch 00021: saving model to model_init_conv_lstm_2020-09-1314_28_24.024543/model-00021-1.34609-0.47511-1.51779-0.31000.h5\n",
      "Epoch 22/30\n",
      "34/34 [==============================] - 44s 1s/step - loss: 1.3034 - categorical_accuracy: 0.4945 - val_loss: 1.5150 - val_categorical_accuracy: 0.3200\n",
      "\n",
      "Epoch 00022: saving model to model_init_conv_lstm_2020-09-1314_28_24.024543/model-00022-1.30919-0.49020-1.51502-0.32000.h5\n",
      "Epoch 23/30\n",
      "34/34 [==============================] - 43s 1s/step - loss: 1.3261 - categorical_accuracy: 0.5063 - val_loss: 1.5129 - val_categorical_accuracy: 0.3200\n",
      "\n",
      "Epoch 00023: saving model to model_init_conv_lstm_2020-09-1314_28_24.024543/model-00023-1.32864-0.50226-1.51294-0.32000.h5\n",
      "Epoch 24/30\n",
      "34/34 [==============================] - 44s 1s/step - loss: 1.2804 - categorical_accuracy: 0.5092 - val_loss: 1.5103 - val_categorical_accuracy: 0.3400\n",
      "\n",
      "Epoch 00024: saving model to model_init_conv_lstm_2020-09-1314_28_24.024543/model-00024-1.28660-0.50528-1.51027-0.34000.h5\n",
      "Epoch 25/30\n",
      "34/34 [==============================] - 43s 1s/step - loss: 1.3047 - categorical_accuracy: 0.4673 - val_loss: 1.5128 - val_categorical_accuracy: 0.3300\n",
      "\n",
      "Epoch 00025: saving model to model_init_conv_lstm_2020-09-1314_28_24.024543/model-00025-1.30314-0.47059-1.51283-0.33000.h5\n",
      "Epoch 26/30\n",
      "34/34 [==============================] - 43s 1s/step - loss: 1.3055 - categorical_accuracy: 0.4974 - val_loss: 1.5105 - val_categorical_accuracy: 0.3300\n",
      "\n",
      "Epoch 00026: saving model to model_init_conv_lstm_2020-09-1314_28_24.024543/model-00026-1.30431-0.49321-1.51054-0.33000.h5\n",
      "\n",
      "Epoch 00026: ReduceLROnPlateau reducing learning rate to 0.0001250000059371814.\n",
      "Epoch 27/30\n",
      "34/34 [==============================] - 44s 1s/step - loss: 1.2831 - categorical_accuracy: 0.5291 - val_loss: 1.5116 - val_categorical_accuracy: 0.3300\n",
      "\n",
      "Epoch 00027: saving model to model_init_conv_lstm_2020-09-1314_28_24.024543/model-00027-1.29086-0.51735-1.51163-0.33000.h5\n",
      "Epoch 28/30\n",
      "34/34 [==============================] - 43s 1s/step - loss: 1.2859 - categorical_accuracy: 0.5320 - val_loss: 1.5081 - val_categorical_accuracy: 0.3300\n",
      "\n",
      "Epoch 00028: saving model to model_init_conv_lstm_2020-09-1314_28_24.024543/model-00028-1.27917-0.53695-1.50814-0.33000.h5\n",
      "Epoch 29/30\n"
     ]
    },
    {
     "name": "stdout",
     "output_type": "stream",
     "text": [
      "34/34 [==============================] - 43s 1s/step - loss: 1.3013 - categorical_accuracy: 0.5011 - val_loss: 1.5076 - val_categorical_accuracy: 0.3100\n",
      "\n",
      "Epoch 00029: saving model to model_init_conv_lstm_2020-09-1314_28_24.024543/model-00029-1.29939-0.50528-1.50761-0.31000.h5\n",
      "Epoch 30/30\n",
      "34/34 [==============================] - 44s 1s/step - loss: 1.2872 - categorical_accuracy: 0.5136 - val_loss: 1.5106 - val_categorical_accuracy: 0.3100\n",
      "\n",
      "Epoch 00030: saving model to model_init_conv_lstm_2020-09-1314_28_24.024543/model-00030-1.28808-0.50980-1.51055-0.31000.h5\n"
     ]
    },
    {
     "data": {
      "text/plain": [
       "<keras.callbacks.History at 0x7fdc30c19cf8>"
      ]
     },
     "execution_count": 18,
     "metadata": {},
     "output_type": "execute_result"
    }
   ],
   "source": [
    "model_name = 'model_init_conv_lstm' + '_' + str(curr_dt_time).replace(' ','').replace(':','_') + '/'\n",
    "    \n",
    "if not os.path.exists(model_name):\n",
    "    os.mkdir(model_name)\n",
    "        \n",
    "filepath = model_name + 'model-{epoch:05d}-{loss:.5f}-{categorical_accuracy:.5f}-{val_loss:.5f}-{val_categorical_accuracy:.5f}.h5'\n",
    "\n",
    "checkpoint = ModelCheckpoint(filepath, monitor='val_loss', verbose=1, save_best_only=False, save_weights_only=False, mode='auto', period=1)\n",
    "\n",
    "LR = ReduceLROnPlateau(monitor='val_loss', factor=0.5, patience=2, verbose=1, mode='min', epsilon=0.0001, cooldown=0, min_lr=0.00001)\n",
    "callbacks_list = [checkpoint, LR]\n",
    "\n",
    "if (num_train_sequences%batch_size) == 0:\n",
    "    steps_per_epoch = int(num_train_sequences/batch_size)\n",
    "else:\n",
    "    steps_per_epoch = (num_train_sequences//batch_size) + 1\n",
    "\n",
    "if (num_val_sequences%batch_size) == 0:\n",
    "    validation_steps = int(num_val_sequences/batch_size)\n",
    "else:\n",
    "    validation_steps = (num_val_sequences//batch_size) + 1\n",
    "    \n",
    "model.fit_generator(train_generator, steps_per_epoch=steps_per_epoch, epochs=num_epochs, verbose=1, \n",
    "                    callbacks=callbacks_list, validation_data=val_generator, \n",
    "                    validation_steps=validation_steps, class_weight=None, workers=1, initial_epoch=0)"
   ]
  },
  {
   "cell_type": "markdown",
   "metadata": {},
   "source": [
    "### Conclusions\n",
    "* To conclude, a smaller mini-batch size (not too small) usually leads not only to a smaller number of iterations of a training algorithm, than a large batch size, but also to a higher accuracy overall, i.e, a neural network that performs better, in the same amount of training time, or less. Here we find the optimal batch size as 20. Whereas batch size 10 is too small and also need more time for training.\n",
    "* GRU is better than LSTM as it is easy to modify and doesn't need memory units, therefore, faster to train than LSTM and give as per performance.\n",
    "* Conv3D gives better accuracy when compared with LSTM/GRU models\n",
    "* We can **select the Conv3D model with 82% accuracy as our final model for Gesture Recognition**."
   ]
  }
 ],
 "metadata": {
  "kernelspec": {
   "display_name": "Python 3",
   "language": "python",
   "name": "python3"
  },
  "language_info": {
   "codemirror_mode": {
    "name": "ipython",
    "version": 3
   },
   "file_extension": ".py",
   "mimetype": "text/x-python",
   "name": "python",
   "nbconvert_exporter": "python",
   "pygments_lexer": "ipython3",
   "version": "3.6.8"
  }
 },
 "nbformat": 4,
 "nbformat_minor": 2
}
